{
  "cells": [
    {
      "cell_type": "markdown",
      "id": "24af15d1",
      "metadata": {
        "id": "24af15d1"
      },
      "source": [
        "# Day 4: Model Optimization Techniques"
      ]
    },
    {
      "cell_type": "markdown",
      "id": "be8bc113",
      "metadata": {
        "id": "be8bc113"
      },
      "source": [
        "\n",
        "**Objective:**  \n",
        "Apply model optimization techniques to improve performance of a neural network trained on the Fashion-MNIST dataset. Explore hyperparameter tuning, compression methods, and deployment considerations.\n"
      ]
    },
    {
      "cell_type": "markdown",
      "id": "91988568",
      "metadata": {
        "id": "91988568"
      },
      "source": [
        "\n",
        "### Load Dataset\n",
        "**Fashion-MNIST Dataset**:  \n",
        "- 60,000 training images  \n",
        "- 10,000 test images  \n",
        "- 10 categories (e.g., t-shirt, trouser, sneaker, bag)\n",
        "- Normalize pixel values to [0,1], reshape to (28,28,1) and one-hot encode labels.\n"
      ]
    },
    {
      "cell_type": "code",
      "execution_count": 2,
      "id": "c5a2fd92",
      "metadata": {
        "colab": {
          "base_uri": "https://localhost:8080/"
        },
        "id": "c5a2fd92",
        "outputId": "95c4478e-8453-43c8-a854-f902fb6d3298"
      },
      "outputs": [
        {
          "output_type": "stream",
          "name": "stdout",
          "text": [
            "Downloading data from https://storage.googleapis.com/tensorflow/tf-keras-datasets/train-labels-idx1-ubyte.gz\n",
            "\u001b[1m29515/29515\u001b[0m \u001b[32m━━━━━━━━━━━━━━━━━━━━\u001b[0m\u001b[37m\u001b[0m \u001b[1m0s\u001b[0m 0us/step\n",
            "Downloading data from https://storage.googleapis.com/tensorflow/tf-keras-datasets/train-images-idx3-ubyte.gz\n",
            "\u001b[1m26421880/26421880\u001b[0m \u001b[32m━━━━━━━━━━━━━━━━━━━━\u001b[0m\u001b[37m\u001b[0m \u001b[1m2s\u001b[0m 0us/step\n",
            "Downloading data from https://storage.googleapis.com/tensorflow/tf-keras-datasets/t10k-labels-idx1-ubyte.gz\n",
            "\u001b[1m5148/5148\u001b[0m \u001b[32m━━━━━━━━━━━━━━━━━━━━\u001b[0m\u001b[37m\u001b[0m \u001b[1m0s\u001b[0m 0us/step\n",
            "Downloading data from https://storage.googleapis.com/tensorflow/tf-keras-datasets/t10k-images-idx3-ubyte.gz\n",
            "\u001b[1m4422102/4422102\u001b[0m \u001b[32m━━━━━━━━━━━━━━━━━━━━\u001b[0m\u001b[37m\u001b[0m \u001b[1m1s\u001b[0m 0us/step\n",
            "Training data shape: (60000, 28, 28, 1)\n",
            "Test data shape: (10000, 28, 28, 1)\n"
          ]
        }
      ],
      "source": [
        "\n",
        "from tensorflow.keras.datasets import fashion_mnist\n",
        "\n",
        "# Load dataset\n",
        "(x_train, y_train), (x_test, y_test) = fashion_mnist.load_data()\n",
        "\n",
        "# 2. Normalize pixel values (scale between 0 and 1)\n",
        "x_train = x_train.astype(\"float32\") / 255.0\n",
        "x_test = x_test.astype(\"float32\") / 255.0\n",
        "\n",
        "# Reshape for CNN\n",
        "x_train = x_train.reshape(-1, 28, 28, 1)\n",
        "x_test = x_test.reshape(-1, 28, 28, 1)\n",
        "\n",
        "print(\"Training data shape:\", x_train.shape)\n",
        "print(\"Test data shape:\", x_test.shape)\n"
      ]
    },
    {
      "cell_type": "markdown",
      "source": [
        "## Baseline CNN\n",
        "A simple CNN with two Conv2D+MaxPool blocks and a Dense classifier. We train and record baseline accuracy and training time.\n"
      ],
      "metadata": {
        "id": "MyPBJGVmll7a"
      },
      "id": "MyPBJGVmll7a"
    },
    {
      "cell_type": "code",
      "execution_count": 3,
      "id": "497143fb",
      "metadata": {
        "colab": {
          "base_uri": "https://localhost:8080/"
        },
        "id": "497143fb",
        "outputId": "6ebbf1c5-0a3c-457b-a522-f5d1bdf06697"
      },
      "outputs": [
        {
          "output_type": "stream",
          "name": "stdout",
          "text": [
            "Epoch 1/5\n",
            "\u001b[1m1688/1688\u001b[0m \u001b[32m━━━━━━━━━━━━━━━━━━━━\u001b[0m\u001b[37m\u001b[0m \u001b[1m30s\u001b[0m 17ms/step - accuracy: 0.7748 - loss: 0.6195 - val_accuracy: 0.8822 - val_loss: 0.3331\n",
            "Epoch 2/5\n",
            "\u001b[1m1688/1688\u001b[0m \u001b[32m━━━━━━━━━━━━━━━━━━━━\u001b[0m\u001b[37m\u001b[0m \u001b[1m41s\u001b[0m 17ms/step - accuracy: 0.8902 - loss: 0.3029 - val_accuracy: 0.8985 - val_loss: 0.2747\n",
            "Epoch 3/5\n",
            "\u001b[1m1688/1688\u001b[0m \u001b[32m━━━━━━━━━━━━━━━━━━━━\u001b[0m\u001b[37m\u001b[0m \u001b[1m40s\u001b[0m 17ms/step - accuracy: 0.9073 - loss: 0.2566 - val_accuracy: 0.8937 - val_loss: 0.2763\n",
            "Epoch 4/5\n",
            "\u001b[1m1688/1688\u001b[0m \u001b[32m━━━━━━━━━━━━━━━━━━━━\u001b[0m\u001b[37m\u001b[0m \u001b[1m30s\u001b[0m 18ms/step - accuracy: 0.9173 - loss: 0.2200 - val_accuracy: 0.9062 - val_loss: 0.2615\n",
            "Epoch 5/5\n",
            "\u001b[1m1688/1688\u001b[0m \u001b[32m━━━━━━━━━━━━━━━━━━━━\u001b[0m\u001b[37m\u001b[0m \u001b[1m29s\u001b[0m 17ms/step - accuracy: 0.9280 - loss: 0.1941 - val_accuracy: 0.9135 - val_loss: 0.2361\n",
            "\u001b[1m313/313\u001b[0m \u001b[32m━━━━━━━━━━━━━━━━━━━━\u001b[0m\u001b[37m\u001b[0m \u001b[1m2s\u001b[0m 6ms/step - accuracy: 0.9057 - loss: 0.2675\n"
          ]
        },
        {
          "output_type": "execute_result",
          "data": {
            "text/plain": [
              "[0.2610622048377991, 0.9064000248908997]"
            ]
          },
          "metadata": {},
          "execution_count": 3
        }
      ],
      "source": [
        "\n",
        "from tensorflow.keras import models, layers\n",
        "\n",
        "def build_baseline_model():\n",
        "    model = models.Sequential([\n",
        "        layers.Conv2D(32, (3,3), activation='relu', input_shape=(28,28,1)),\n",
        "        layers.MaxPooling2D((2,2)),\n",
        "        layers.Conv2D(64, (3,3), activation='relu'),\n",
        "        layers.MaxPooling2D((2,2)),\n",
        "        layers.Flatten(),\n",
        "        layers.Dense(128, activation='relu'),\n",
        "        layers.Dense(10, activation='softmax')\n",
        "    ])\n",
        "    return model\n",
        "\n",
        "baseline_model = build_baseline_model()\n",
        "baseline_model.compile(optimizer='adam',\n",
        "                       loss='sparse_categorical_crossentropy',\n",
        "                       metrics=['accuracy'])\n",
        "\n",
        "history_baseline = baseline_model.fit(x_train, y_train, epochs=5, validation_split=0.1)\n",
        "baseline_eval = baseline_model.evaluate(x_test, y_test)\n",
        "baseline_eval\n"
      ]
    },
    {
      "cell_type": "markdown",
      "source": [
        "## Model Compression\n",
        "Apply dropout (already in the baseline) and use TensorFlow Model Optimization Toolkit for weight pruning to reduce model size. Compare performance."
      ],
      "metadata": {
        "id": "1k1q2tBll98P"
      },
      "id": "1k1q2tBll98P"
    },
    {
      "cell_type": "code",
      "source": [
        "!pip install -q tensorflow-model-optimization"
      ],
      "metadata": {
        "colab": {
          "base_uri": "https://localhost:8080/"
        },
        "id": "zoWnUL6ueJJZ",
        "outputId": "1d69b445-698a-453a-d804-33b932b8e104"
      },
      "id": "zoWnUL6ueJJZ",
      "execution_count": 8,
      "outputs": [
        {
          "output_type": "stream",
          "name": "stdout",
          "text": [
            "\u001b[?25l     \u001b[90m━━━━━━━━━━━━━━━━━━━━━━━━━━━━━━━━━━━━━━━━\u001b[0m \u001b[32m0.0/61.0 kB\u001b[0m \u001b[31m?\u001b[0m eta \u001b[36m-:--:--\u001b[0m\r\u001b[2K     \u001b[90m━━━━━━━━━━━━━━━━━━━━━━━━━━━━━━━━━━━━━━━━\u001b[0m \u001b[32m61.0/61.0 kB\u001b[0m \u001b[31m1.7 MB/s\u001b[0m eta \u001b[36m0:00:00\u001b[0m\n",
            "\u001b[2K   \u001b[90m━━━━━━━━━━━━━━━━━━━━━━━━━━━━━━━━━━━━━━━━\u001b[0m \u001b[32m242.5/242.5 kB\u001b[0m \u001b[31m4.2 MB/s\u001b[0m eta \u001b[36m0:00:00\u001b[0m\n",
            "\u001b[2K   \u001b[90m━━━━━━━━━━━━━━━━━━━━━━━━━━━━━━━━━━━━━━━━\u001b[0m \u001b[32m18.0/18.0 MB\u001b[0m \u001b[31m94.6 MB/s\u001b[0m eta \u001b[36m0:00:00\u001b[0m\n",
            "\u001b[?25h\u001b[31mERROR: pip's dependency resolver does not currently take into account all the packages that are installed. This behaviour is the source of the following dependency conflicts.\n",
            "opencv-contrib-python 4.12.0.88 requires numpy<2.3.0,>=2; python_version >= \"3.9\", but you have numpy 1.26.4 which is incompatible.\n",
            "opencv-python 4.12.0.88 requires numpy<2.3.0,>=2; python_version >= \"3.9\", but you have numpy 1.26.4 which is incompatible.\n",
            "thinc 8.3.6 requires numpy<3.0.0,>=2.0.0, but you have numpy 1.26.4 which is incompatible.\n",
            "opencv-python-headless 4.12.0.88 requires numpy<2.3.0,>=2; python_version >= \"3.9\", but you have numpy 1.26.4 which is incompatible.\u001b[0m\u001b[31m\n",
            "\u001b[0m"
          ]
        }
      ]
    },
    {
      "cell_type": "code",
      "execution_count": null,
      "id": "adcf0534",
      "metadata": {
        "id": "adcf0534"
      },
      "outputs": [],
      "source": [
        "from tensorflow.keras import models, layers\n",
        "import tensorflow_model_optimization as tfmot\n",
        "\n",
        "pruning_params = {\n",
        "    'pruning_schedule': tfmot.sparsity.keras.PolynomialDecay(\n",
        "        initial_sparsity=0.0,\n",
        "        final_sparsity=0.5,\n",
        "        begin_step=0,\n",
        "        end_step=1000)\n",
        "}\n",
        "\n",
        "# Build normal model first:\n",
        "def build_baseline_model():\n",
        "    model = models.Sequential([\n",
        "        layers.Conv2D(32, (3,3), activation='relu', input_shape=(28,28,1)),\n",
        "        layers.MaxPooling2D((2,2)),\n",
        "        layers.Conv2D(64, (3,3), activation='relu'),\n",
        "        layers.MaxPooling2D((2,2)),\n",
        "        layers.Flatten(),\n",
        "        layers.Dense(128, activation='relu'),\n",
        "        layers.Dense(10, activation='softmax')\n",
        "    ])\n",
        "    return model\n",
        "\n",
        "# Then prune the whole model:\n",
        "model = build_baseline_model()\n",
        "pruned_model = tfmot.sparsity.keras.prune_low_magnitude(model, **pruning_params)\n"
      ]
    },
    {
      "cell_type": "code",
      "execution_count": 13,
      "id": "0ecc7786",
      "metadata": {
        "colab": {
          "base_uri": "https://localhost:8080/"
        },
        "id": "0ecc7786",
        "outputId": "4357327e-2580-4c6d-e003-b472504cb61b"
      },
      "outputs": [
        {
          "output_type": "stream",
          "name": "stdout",
          "text": [
            "Saved artifact at '/tmp/tmphpqwahyv'. The following endpoints are available:\n",
            "\n",
            "* Endpoint 'serve'\n",
            "  args_0 (POSITIONAL_ONLY): TensorSpec(shape=(None, 28, 28, 1), dtype=tf.float32, name='keras_tensor_8')\n",
            "Output Type:\n",
            "  TensorSpec(shape=(None, 10), dtype=tf.float32, name=None)\n",
            "Captures:\n",
            "  138021174317456: TensorSpec(shape=(), dtype=tf.resource, name=None)\n",
            "  138021174319184: TensorSpec(shape=(), dtype=tf.resource, name=None)\n",
            "  138021174316688: TensorSpec(shape=(), dtype=tf.resource, name=None)\n",
            "  138021174317648: TensorSpec(shape=(), dtype=tf.resource, name=None)\n",
            "  138021174320336: TensorSpec(shape=(), dtype=tf.resource, name=None)\n",
            "  138021174319568: TensorSpec(shape=(), dtype=tf.resource, name=None)\n",
            "  138021174320720: TensorSpec(shape=(), dtype=tf.resource, name=None)\n",
            "  138021174320528: TensorSpec(shape=(), dtype=tf.resource, name=None)\n",
            "Baseline model size (KB): 882.359375\n"
          ]
        }
      ],
      "source": [
        "\n",
        "# Convert baseline model to TensorFlow Lite format\n",
        "converter = tf.lite.TFLiteConverter.from_keras_model(baseline_model)\n",
        "tflite_model = converter.convert()\n",
        "\n",
        "# Save model\n",
        "with open(\"baseline_model.tflite\", \"wb\") as f:\n",
        "    f.write(tflite_model)\n",
        "\n",
        "print(\"Baseline model size (KB):\", len(tflite_model) / 1024)\n"
      ]
    },
    {
      "cell_type": "code",
      "execution_count": 14,
      "id": "9286cc20",
      "metadata": {
        "colab": {
          "base_uri": "https://localhost:8080/",
          "height": 466
        },
        "id": "9286cc20",
        "outputId": "b21342aa-7d39-41e0-ca09-24129799be84"
      },
      "outputs": [
        {
          "output_type": "stream",
          "name": "stdout",
          "text": [
            "\u001b[1m313/313\u001b[0m \u001b[32m━━━━━━━━━━━━━━━━━━━━\u001b[0m\u001b[37m\u001b[0m \u001b[1m2s\u001b[0m 7ms/step\n"
          ]
        },
        {
          "output_type": "display_data",
          "data": {
            "text/plain": [
              "<Figure size 640x480 with 2 Axes>"
            ],
            "image/png": "[encoded data removed]"
          },
          "metadata": {}
        }
      ],
      "source": [
        "\n",
        "import numpy as np\n",
        "import matplotlib.pyplot as plt\n",
        "from sklearn.metrics import confusion_matrix, ConfusionMatrixDisplay\n",
        "\n",
        "y_pred = baseline_model.predict(x_test)\n",
        "y_pred_classes = np.argmax(y_pred, axis=1)\n",
        "\n",
        "cm = confusion_matrix(y_test, y_pred_classes)\n",
        "disp = ConfusionMatrixDisplay(confusion_matrix=cm, display_labels=range(10))\n",
        "disp.plot(cmap=plt.cm.Blues)\n",
        "plt.show()\n"
      ]
    }
  ],
  "metadata": {
    "colab": {
      "provenance": []
    },
    "language_info": {
      "name": "python"
    },
    "kernelspec": {
      "name": "python3",
      "display_name": "Python 3"
    }
  },
  "nbformat": 4,
  "nbformat_minor": 5
}